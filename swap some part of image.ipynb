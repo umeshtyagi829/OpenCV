{
 "cells": [
  {
   "cell_type": "code",
   "execution_count": 1,
   "id": "bcbdd632",
   "metadata": {},
   "outputs": [],
   "source": [
    "import cv2\n",
    "import numpy as np"
   ]
  },
  {
   "cell_type": "code",
   "execution_count": 2,
   "id": "24a9ec8d",
   "metadata": {},
   "outputs": [],
   "source": [
    "# Read Vimal Image\n",
    "vimal = cv2.imread(\"mentor.png\")\n",
    "# Read Umesh Image\n",
    "umesh = cv2.imread(\"umesh.jpg\")\n",
    "\n",
    "# Display Vimal image\n",
    "cv2.imshow(\"Vimal\", vimal)\n",
    "# Diplay Umesh Image\n",
    "cv2.imshow(\"Umesh\", umesh)\n",
    "cv2.waitKey()\n",
    "cv2.destroyAllWindows()"
   ]
  },
  {
   "cell_type": "code",
   "execution_count": 3,
   "id": "3b2df644",
   "metadata": {},
   "outputs": [],
   "source": [
    "# Cordinates of vimal Face\n",
    "vx1, vx2, vy1, vy2 = 150, 400, 0,350\n",
    "# Cordinates of Umesh Face\n",
    "ux1, ux2, uy1, uy2 = 100, 350, 0, 350\n",
    "\n",
    "# Crop Vimal face\n",
    "vimalFace = vimal[vy1:vy2, vx1:vx2]\n",
    "# Crop Umesh face\n",
    "umeshFace = umesh[uy1:uy2, ux1:ux2]\n",
    "\n",
    "# Display face\n",
    "cv2.imshow(\"Vimal\", vimalFace)\n",
    "# Display face\n",
    "cv2.imshow(\"Umesh\", umeshFace)\n",
    "cv2.waitKey()\n",
    "cv2.destroyAllWindows()"
   ]
  },
  {
   "cell_type": "code",
   "execution_count": 4,
   "id": "9e0e96db",
   "metadata": {},
   "outputs": [],
   "source": [
    "# Swap the face of Vimal with Umesh\n",
    "vimal = cv2.imread('mentor.png')\n",
    "vimal[vy1:vy2, vx1:vx2] = umeshFace\n",
    "\n",
    "# Swap the face of Umesh with Vimal\n",
    "umesh = cv2.imread('umesh.jpg')\n",
    "umesh[uy1:uy2, ux1:ux2] = vimalFace\n",
    "\n",
    "# Display swapped image\n",
    "cv2.imshow(\"Umesh\", umesh)\n",
    "cv2.imshow(\"Vimal\", vimal)\n",
    "cv2.waitKey()\n",
    "cv2.destroyAllWindows()"
   ]
  },
  {
   "cell_type": "code",
   "execution_count": null,
   "id": "cdfddfdc",
   "metadata": {},
   "outputs": [],
   "source": []
  }
 ],
 "metadata": {
  "kernelspec": {
   "display_name": "Python 3",
   "language": "python",
   "name": "python3"
  },
  "language_info": {
   "codemirror_mode": {
    "name": "ipython",
    "version": 3
   },
   "file_extension": ".py",
   "mimetype": "text/x-python",
   "name": "python",
   "nbconvert_exporter": "python",
   "pygments_lexer": "ipython3",
   "version": "3.8.3"
  }
 },
 "nbformat": 4,
 "nbformat_minor": 5
}
