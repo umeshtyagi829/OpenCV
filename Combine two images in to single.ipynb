{
 "cells": [
  {
   "cell_type": "code",
   "execution_count": 1,
   "id": "0e7207bc",
   "metadata": {},
   "outputs": [],
   "source": [
    "import numpy as np\n",
    "import cv2"
   ]
  },
  {
   "cell_type": "code",
   "execution_count": 2,
   "id": "0e829b45",
   "metadata": {},
   "outputs": [],
   "source": [
    "# Read Vimal Image\n",
    "vimal = cv2.imread(\"mentor.png\")\n",
    "# Read Umesh Image\n",
    "umesh = cv2.imread(\"umesh.jpg\")\n",
    "\n",
    "# Display Vimal image\n",
    "cv2.imshow(\"Vimal\", vimal)\n",
    "# Diplay Umesh Image\n",
    "cv2.imshow(\"Umesh\", umesh)\n",
    "cv2.waitKey()\n",
    "cv2.destroyAllWindows()"
   ]
  },
  {
   "cell_type": "code",
   "execution_count": 3,
   "id": "f1064b31",
   "metadata": {},
   "outputs": [
    {
     "data": {
      "text/plain": [
       "(659, 547, 3)"
      ]
     },
     "execution_count": 3,
     "metadata": {},
     "output_type": "execute_result"
    }
   ],
   "source": [
    "vimal.shape"
   ]
  },
  {
   "cell_type": "code",
   "execution_count": 4,
   "id": "410582a3",
   "metadata": {},
   "outputs": [],
   "source": [
    "umesh = umesh[20:679, 10:557]"
   ]
  },
  {
   "cell_type": "code",
   "execution_count": 5,
   "id": "3874afa9",
   "metadata": {},
   "outputs": [
    {
     "data": {
      "text/plain": [
       "(659, 547, 3)"
      ]
     },
     "execution_count": 5,
     "metadata": {},
     "output_type": "execute_result"
    }
   ],
   "source": [
    "umesh.shape"
   ]
  },
  {
   "cell_type": "code",
   "execution_count": 6,
   "id": "3c990e2d",
   "metadata": {},
   "outputs": [],
   "source": [
    "combine = np.hstack((vimal, umesh))\n",
    "cv2.imshow(\"Combine images\", combine)\n",
    "cv2.waitKey()\n",
    "cv2.destroyAllWindows()"
   ]
  },
  {
   "cell_type": "code",
   "execution_count": null,
   "id": "e4f961e7",
   "metadata": {},
   "outputs": [],
   "source": []
  },
  {
   "cell_type": "code",
   "execution_count": null,
   "id": "b34772ad",
   "metadata": {},
   "outputs": [],
   "source": []
  }
 ],
 "metadata": {
  "kernelspec": {
   "display_name": "Python 3",
   "language": "python",
   "name": "python3"
  },
  "language_info": {
   "codemirror_mode": {
    "name": "ipython",
    "version": 3
   },
   "file_extension": ".py",
   "mimetype": "text/x-python",
   "name": "python",
   "nbconvert_exporter": "python",
   "pygments_lexer": "ipython3",
   "version": "3.8.3"
  }
 },
 "nbformat": 4,
 "nbformat_minor": 5
}
