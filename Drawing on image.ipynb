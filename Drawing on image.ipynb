{
 "cells": [
  {
   "cell_type": "code",
   "execution_count": 1,
   "id": "654a73e0",
   "metadata": {},
   "outputs": [],
   "source": [
    "import numpy as np\n",
    "import cv2"
   ]
  },
  {
   "cell_type": "code",
   "execution_count": 2,
   "id": "25b76fa3",
   "metadata": {},
   "outputs": [],
   "source": [
    "# Create array with zeros\n",
    "img = np.ones((550, 500, 3))\n",
    "\n",
    "cv2.circle(img, center=(250,130), radius=80, color=(0,0,255), thickness= -1)\n",
    "cv2.circle(img, center=(250,180), radius=17, color=(255,0,0), thickness= -1)\n",
    "cv2.circle(img, center=(215,120), radius=15, color=(255,0,0), thickness= -1)\n",
    "cv2.circle(img, center=(275,120), radius=15, color=(255,0,0), thickness= -1)\n",
    "cv2.line(img, (250, 220), (250, 405), (0, 0, 255), 25)\n",
    "cv2.line(img, (250, 250), (150, 350), (0, 0, 255), 25)\n",
    "cv2.line(img, (250, 250), (350, 350), (0, 0, 255), 25)\n",
    "cv2.line(img, (250, 390), (150, 500), (0, 0, 255), 25)\n",
    "cv2.line(img, (250, 390), (350, 500), (0, 0, 255), 25)\n",
    "   \n",
    "# Using cv2.putText() method\n",
    "image = cv2.putText(img, 'Drawing using Python-OpenCV' ,(5, 25), cv2.FONT_HERSHEY_SIMPLEX, 1, (255, 0, 0), 2, cv2.LINE_AA)\n",
    "   \n",
    "# Display image\n",
    "cv2.imshow(\"Image\", img)\n",
    "cv2.waitKey()\n",
    "cv2.destroyAllWindows()"
   ]
  },
  {
   "cell_type": "code",
   "execution_count": null,
   "id": "8f454250",
   "metadata": {},
   "outputs": [],
   "source": []
  }
 ],
 "metadata": {
  "kernelspec": {
   "display_name": "Python 3",
   "language": "python",
   "name": "python3"
  },
  "language_info": {
   "codemirror_mode": {
    "name": "ipython",
    "version": 3
   },
   "file_extension": ".py",
   "mimetype": "text/x-python",
   "name": "python",
   "nbconvert_exporter": "python",
   "pygments_lexer": "ipython3",
   "version": "3.8.3"
  }
 },
 "nbformat": 4,
 "nbformat_minor": 5
}
